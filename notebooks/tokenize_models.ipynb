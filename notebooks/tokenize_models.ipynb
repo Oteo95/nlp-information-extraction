{
 "cells": [
  {
   "cell_type": "code",
   "execution_count": 1,
   "id": "b78f651f-6cff-4bf2-894d-cc35ba47a338",
   "metadata": {},
   "outputs": [],
   "source": [
    "import pandas as pd\n",
    "from extraction.db.db_handler import MongoHandler\n"
   ]
  },
  {
   "cell_type": "code",
   "execution_count": 3,
   "id": "32c1a237-5662-4d9e-94fd-a0937edac88c",
   "metadata": {},
   "outputs": [],
   "source": [
    "mh = MongoHandler()\n",
    "annot = mh.get_all_annotations()"
   ]
  },
  {
   "cell_type": "code",
   "execution_count": 10,
   "id": "ae9e1677-49b2-483b-bd4d-d0c274f0e4be",
   "metadata": {},
   "outputs": [
    {
     "ename": "ModuleNotFoundError",
     "evalue": "No module named 'transformers'",
     "output_type": "error",
     "traceback": [
      "\u001b[0;31m---------------------------------------------------------------------------\u001b[0m",
      "\u001b[0;31mModuleNotFoundError\u001b[0m                       Traceback (most recent call last)",
      "\u001b[0;32m/tmp/ipykernel_27366/2342202103.py\u001b[0m in \u001b[0;36m<module>\u001b[0;34m\u001b[0m\n\u001b[0;32m----> 1\u001b[0;31m \u001b[0;32mfrom\u001b[0m \u001b[0mtransformers\u001b[0m \u001b[0;32mimport\u001b[0m \u001b[0mBertTokenizerFast\u001b[0m\u001b[0;34m,\u001b[0m \u001b[0mBertConfig\u001b[0m\u001b[0;34m,\u001b[0m \u001b[0mBertForTokenClassification\u001b[0m\u001b[0;34m\u001b[0m\u001b[0;34m\u001b[0m\u001b[0m\n\u001b[0m",
      "\u001b[0;31mModuleNotFoundError\u001b[0m: No module named 'transformers'"
     ]
    }
   ],
   "source": [
    "from transformers import BertTokenizerFas"
   ]
  },
  {
   "cell_type": "code",
   "execution_count": 9,
   "id": "13ddb4cd-6a31-4e0f-b012-e5e6019740b9",
   "metadata": {},
   "outputs": [
    {
     "data": {
      "text/plain": [
       "\"Bank of America Declares Quarterly Stock Dividends <PRE>\\nCHARLOTTE, N.C.--(BUSINESS WIRE)--January 29, 2020-- </PRE>\\n\\n Bank of America Corporation today announced the Board of Directors declared a regular quarterly cash dividend on Bank of America common stock of $0.18 per share, payable on March 27, 2020 to shareholders of record as of March 6, 2020. <P>&nbsp;&nbsp; The Board also declared a regular quarterly cash dividend of $1.75 per share on the 7% Cumulative Redeemable Preferred Stock, Series B. The dividend is payable on April 24, 2020 to shareholders of record as of April 10, 2020. </P><P>&nbsp;&nbsp; Bank of America </P><P>&nbsp;&nbsp; Bank of America is one of the world's leading financial institutions, serving individual consumers, small and middle-market businesses and large corporations with a full range of banking, investing, asset management and other financial and risk management products and services. The company provides unmatched convenience in the United States, serving approximately 66 million consumer and small business clients with approximately 4,300 retail financial centers, including approximately 2,800 lending centers, 2,600 financial centers with a Consumer Investment Financial Solutions Advisor and 2,000 business centers; approximately 16,800 ATMs; and award winning digital banking with approximately 38 million active users, including approximately 29 million mobile users. Bank of America is a global leader in wealth management, corporate and investment banking and trading across a broad range of asset classes, serving corporations, governments, institutions and individuals around the world. Bank of America offers industry-leading support to approximately 3 million small business owners through a suite of innovative, easy-to-use online products and services. The company serves clients through operations across the United States, its territories and approximately 35 countries. Bank of America Corporation stock (NYSE: BAC) is listed on the New York Stock Exchange. </P><P>&nbsp;&nbsp; For more Bank of America news, including dividend announcements and other important information, visit the Bank of America newsroom and register for news email alerts. </P><P>&nbsp;&nbsp; www.bankofamerica.com </P><P>&nbsp;&nbsp; View source version on businesswire.com: https://www.businesswire.com/news/home/20200129005678/en/ </P><PRE>\\n \\n    CONTACT:    Investors May Contact: </PRE>\\n\\n Lee McEntire, Bank of America, 1.980.388.6780 <P>&nbsp;&nbsp; lee.mcentire@bofa.com </P><P>&nbsp;&nbsp; Jonathan Blum, Bank of America (Fixed Income), 1.212.449.3112 </P><P>&nbsp;&nbsp; jonathan.blum@bofa.com </P><P>&nbsp;&nbsp; Reporters May Contact: </P><P>&nbsp;&nbsp; Lawrence Grayson, Bank of America, 1.704.995.5825 </P><P>&nbsp;&nbsp; lawrence.grayson@bofa.com </P><PRE>\\n \\n </PRE>\\n\\n (END) Dow Jones Newswires<P>&nbsp;&nbsp; January 29, 2020 16:15 ET (21:15 GMT)- - 04 15 PM EST 01-29-20</P>\""
      ]
     },
     "execution_count": 9,
     "metadata": {},
     "output_type": "execute_result"
    }
   ],
   "source": [
    "annot[0][\"text\"]"
   ]
  }
 ],
 "metadata": {
  "kernelspec": {
   "display_name": "Python 3 (ipykernel)",
   "language": "python",
   "name": "python3"
  },
  "language_info": {
   "codemirror_mode": {
    "name": "ipython",
    "version": 3
   },
   "file_extension": ".py",
   "mimetype": "text/x-python",
   "name": "python",
   "nbconvert_exporter": "python",
   "pygments_lexer": "ipython3",
   "version": "3.8.10"
  }
 },
 "nbformat": 4,
 "nbformat_minor": 5
}

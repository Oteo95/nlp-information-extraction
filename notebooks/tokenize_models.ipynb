{
 "cells": [
  {
   "cell_type": "code",
   "execution_count": 1,
   "id": "b78f651f-6cff-4bf2-894d-cc35ba47a338",
   "metadata": {},
   "outputs": [],
   "source": [
    "import pandas as pd\n",
    "from extraction.db.db_handler import MongoHandler\n"
   ]
  },
  {
   "cell_type": "code",
   "execution_count": 3,
   "id": "32c1a237-5662-4d9e-94fd-a0937edac88c",
   "metadata": {},
   "outputs": [],
   "source": [
    "mh = MongoHandler()\n",
    "annot = mh.get_all_annotations()"
   ]
  },
  {
   "cell_type": "code",
   "execution_count": null,
   "id": "ae9e1677-49b2-483b-bd4d-d0c274f0e4be",
   "metadata": {},
   "outputs": [],
   "source": [
    "from transformers import BertTokenizerFas"
   ]
  },
  {
   "cell_type": "code",
   "execution_count": null,
   "id": "13ddb4cd-6a31-4e0f-b012-e5e6019740b9",
   "metadata": {},
   "outputs": [],
   "source": [
    "annot[0][\"text\"]"
   ]
  }
 ],
 "metadata": {
  "kernelspec": {
   "display_name": "Python 3 (ipykernel)",
   "language": "python",
   "name": "python3"
  },
  "language_info": {
   "codemirror_mode": {
    "name": "ipython",
    "version": 3
   },
   "file_extension": ".py",
   "mimetype": "text/x-python",
   "name": "python",
   "nbconvert_exporter": "python",
   "pygments_lexer": "ipython3",
   "version": "3.8.10"
  }
 },
 "nbformat": 4,
 "nbformat_minor": 5
}
